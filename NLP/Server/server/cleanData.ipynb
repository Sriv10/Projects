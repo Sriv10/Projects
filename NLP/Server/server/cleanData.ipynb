{
 "cells": [
  {
   "cell_type": "code",
   "execution_count": 2,
   "id": "357f176f-e8a9-4822-97f4-8468947dc071",
   "metadata": {},
   "outputs": [
    {
     "name": "stderr",
     "output_type": "stream",
     "text": [
      "/var/folders/n1/7pxdckhj2bs223tvlrxrb18w0000gn/T/ipykernel_29035/2103238639.py:5: DtypeWarning: Columns (42,166,167,168,169,174,175,178,179,182,183,188,189,190,191,194,195,203,204,205,218,219,220,231,232,233,238,240,241,249) have mixed types. Specify dtype option on import or set low_memory=False.\n",
      "  df = pd.read_csv(\"data.csv\")\n"
     ]
    },
    {
     "name": "stdout",
     "output_type": "stream",
     "text": [
      "['play_id', 'game_id', 'home_team', 'away_team', 'posteam', 'posteam_type', 'defteam', 'side_of_field', 'yardline_100', 'game_date', 'quarter_seconds_remaining', 'half_seconds_remaining', 'game_seconds_remaining', 'game_half', 'quarter_end', 'drive', 'sp', 'qtr', 'down', 'goal_to_go', 'time', 'yrdln', 'ydstogo', 'ydsnet', 'desc', 'play_type', 'yards_gained', 'shotgun', 'no_huddle', 'qb_dropback', 'qb_kneel', 'qb_spike', 'qb_scramble', 'pass_length', 'pass_location', 'air_yards', 'yards_after_catch', 'run_location', 'run_gap', 'field_goal_result', 'kick_distance', 'extra_point_result', 'two_point_conv_result', 'home_timeouts_remaining', 'away_timeouts_remaining', 'timeout', 'timeout_team', 'td_team', 'posteam_timeouts_remaining', 'defteam_timeouts_remaining', 'total_home_score', 'total_away_score', 'posteam_score', 'defteam_score', 'score_differential', 'posteam_score_post', 'defteam_score_post', 'score_differential_post', 'no_score_prob', 'opp_fg_prob', 'opp_safety_prob', 'opp_td_prob', 'fg_prob', 'safety_prob', 'td_prob', 'extra_point_prob', 'two_point_conversion_prob', 'ep', 'epa', 'total_home_epa', 'total_away_epa', 'total_home_rush_epa', 'total_away_rush_epa', 'total_home_pass_epa', 'total_away_pass_epa', 'air_epa', 'yac_epa', 'comp_air_epa', 'comp_yac_epa', 'total_home_comp_air_epa', 'total_away_comp_air_epa', 'total_home_comp_yac_epa', 'total_away_comp_yac_epa', 'total_home_raw_air_epa', 'total_away_raw_air_epa', 'total_home_raw_yac_epa', 'total_away_raw_yac_epa', 'wp', 'def_wp', 'home_wp', 'away_wp', 'wpa', 'home_wp_post', 'away_wp_post', 'total_home_rush_wpa', 'total_away_rush_wpa', 'total_home_pass_wpa', 'total_away_pass_wpa', 'air_wpa', 'yac_wpa', 'comp_air_wpa', 'comp_yac_wpa', 'total_home_comp_air_wpa', 'total_away_comp_air_wpa', 'total_home_comp_yac_wpa', 'total_away_comp_yac_wpa', 'total_home_raw_air_wpa', 'total_away_raw_air_wpa', 'total_home_raw_yac_wpa', 'total_away_raw_yac_wpa', 'punt_blocked', 'first_down_rush', 'first_down_pass', 'first_down_penalty', 'third_down_converted', 'third_down_failed', 'fourth_down_converted', 'fourth_down_failed', 'incomplete_pass', 'interception', 'punt_inside_twenty', 'punt_in_endzone', 'punt_out_of_bounds', 'punt_downed', 'punt_fair_catch', 'kickoff_inside_twenty', 'kickoff_in_endzone', 'kickoff_out_of_bounds', 'kickoff_downed', 'kickoff_fair_catch', 'fumble_forced', 'fumble_not_forced', 'fumble_out_of_bounds', 'solo_tackle', 'safety', 'penalty', 'tackled_for_loss', 'fumble_lost', 'own_kickoff_recovery', 'own_kickoff_recovery_td', 'qb_hit', 'rush_attempt', 'pass_attempt', 'sack', 'touchdown', 'pass_touchdown', 'rush_touchdown', 'return_touchdown', 'extra_point_attempt', 'two_point_attempt', 'field_goal_attempt', 'kickoff_attempt', 'punt_attempt', 'fumble', 'complete_pass', 'assist_tackle', 'lateral_reception', 'lateral_rush', 'lateral_return', 'lateral_recovery', 'passer_player_id', 'passer_player_name', 'receiver_player_id', 'receiver_player_name', 'rusher_player_id', 'rusher_player_name', 'lateral_receiver_player_id', 'lateral_receiver_player_name', 'lateral_rusher_player_id', 'lateral_rusher_player_name', 'lateral_sack_player_id', 'lateral_sack_player_name', 'interception_player_id', 'interception_player_name', 'lateral_interception_player_id', 'lateral_interception_player_name', 'punt_returner_player_id', 'punt_returner_player_name', 'lateral_punt_returner_player_id', 'lateral_punt_returner_player_name', 'kickoff_returner_player_name', 'kickoff_returner_player_id', 'lateral_kickoff_returner_player_id', 'lateral_kickoff_returner_player_name', 'punter_player_id', 'punter_player_name', 'kicker_player_name', 'kicker_player_id', 'own_kickoff_recovery_player_id', 'own_kickoff_recovery_player_name', 'blocked_player_id', 'blocked_player_name', 'tackle_for_loss_1_player_id', 'tackle_for_loss_1_player_name', 'tackle_for_loss_2_player_id', 'tackle_for_loss_2_player_name', 'qb_hit_1_player_id', 'qb_hit_1_player_name', 'qb_hit_2_player_id', 'qb_hit_2_player_name', 'forced_fumble_player_1_team', 'forced_fumble_player_1_player_id', 'forced_fumble_player_1_player_name', 'forced_fumble_player_2_team', 'forced_fumble_player_2_player_id', 'forced_fumble_player_2_player_name', 'solo_tackle_1_team', 'solo_tackle_2_team', 'solo_tackle_1_player_id', 'solo_tackle_2_player_id', 'solo_tackle_1_player_name', 'solo_tackle_2_player_name', 'assist_tackle_1_player_id', 'assist_tackle_1_player_name', 'assist_tackle_1_team', 'assist_tackle_2_player_id', 'assist_tackle_2_player_name', 'assist_tackle_2_team', 'assist_tackle_3_player_id', 'assist_tackle_3_player_name', 'assist_tackle_3_team', 'assist_tackle_4_player_id', 'assist_tackle_4_player_name', 'assist_tackle_4_team', 'pass_defense_1_player_id', 'pass_defense_1_player_name', 'pass_defense_2_player_id', 'pass_defense_2_player_name', 'fumbled_1_team', 'fumbled_1_player_id', 'fumbled_1_player_name', 'fumbled_2_player_id', 'fumbled_2_player_name', 'fumbled_2_team', 'fumble_recovery_1_team', 'fumble_recovery_1_yards', 'fumble_recovery_1_player_id', 'fumble_recovery_1_player_name', 'fumble_recovery_2_team', 'fumble_recovery_2_yards', 'fumble_recovery_2_player_id', 'fumble_recovery_2_player_name', 'return_team', 'return_yards', 'penalty_team', 'penalty_player_id', 'penalty_player_name', 'penalty_yards', 'replay_or_challenge', 'replay_or_challenge_result', 'penalty_type', 'defensive_two_point_attempt', 'defensive_two_point_conv', 'defensive_extra_point_attempt', 'defensive_extra_point_conv']\n"
     ]
    }
   ],
   "source": [
    "import pandas as pd\n",
    "pd.set_option('display.max_columns', None)\n",
    "pd.set_option('display.max_colwidth', 100)\n",
    "\n",
    "df = pd.read_csv(\"data.csv\")\n",
    "print(df.columns.tolist())"
   ]
  },
  {
   "cell_type": "code",
   "execution_count": 19,
   "id": "353d8797-42b4-4ea2-9c31-d423612d65f9",
   "metadata": {},
   "outputs": [
    {
     "data": {
      "text/plain": [
       "2526"
      ]
     },
     "execution_count": 19,
     "metadata": {},
     "output_type": "execute_result"
    }
   ],
   "source": [
    "df['gameDescription'] = df['home_team'] + \" vs \" + df['away_team'] + \" \" + df['game_date'] + \",\" + df['game_id'].astype(str)\n",
    "df['gameDescription'].unique().size"
   ]
  },
  {
   "cell_type": "code",
   "execution_count": 40,
   "id": "9ce7d31e-e3d5-4da9-b849-9e278884321a",
   "metadata": {},
   "outputs": [
    {
     "data": {
      "text/html": [
       "<div>\n",
       "<style scoped>\n",
       "    .dataframe tbody tr th:only-of-type {\n",
       "        vertical-align: middle;\n",
       "    }\n",
       "\n",
       "    .dataframe tbody tr th {\n",
       "        vertical-align: top;\n",
       "    }\n",
       "\n",
       "    .dataframe thead th {\n",
       "        text-align: right;\n",
       "    }\n",
       "</style>\n",
       "<table border=\"1\" class=\"dataframe\">\n",
       "  <thead>\n",
       "    <tr style=\"text-align: right;\">\n",
       "      <th></th>\n",
       "      <th>game_id</th>\n",
       "      <th>play_id</th>\n",
       "      <th>gameDescription</th>\n",
       "      <th>desc</th>\n",
       "      <th>down</th>\n",
       "      <th>time</th>\n",
       "      <th>yardline_100</th>\n",
       "      <th>ydsnet</th>\n",
       "      <th>wpa</th>\n",
       "      <th>start</th>\n",
       "      <th>end</th>\n",
       "    </tr>\n",
       "  </thead>\n",
       "  <tbody>\n",
       "    <tr>\n",
       "      <th>246</th>\n",
       "      <td>2009091304</td>\n",
       "      <td>1695</td>\n",
       "      <td>CLE vs MIN 2009-09-13,2009091304</td>\n",
       "      <td>Half1 down 4.0 start 81.0 end 85.0 (1:46) C.Kluwe punts 48 yards to CLE 33, Center-C.Loeffler. J...</td>\n",
       "      <td>4.0</td>\n",
       "      <td>01:46</td>\n",
       "      <td>81.0</td>\n",
       "      <td>4</td>\n",
       "      <td>16.467169</td>\n",
       "      <td>start 81.0</td>\n",
       "      <td>end 85.0</td>\n",
       "    </tr>\n",
       "    <tr>\n",
       "      <th>277</th>\n",
       "      <td>2009091304</td>\n",
       "      <td>2430</td>\n",
       "      <td>CLE vs MIN 2009-09-13,2009091304</td>\n",
       "      <td>Half2 down 2.0 start 79.0 end 103.0 (6:09) (Shotgun) B.Favre pass deep left to P.Harvin to MIN 4...</td>\n",
       "      <td>2.0</td>\n",
       "      <td>06:09</td>\n",
       "      <td>79.0</td>\n",
       "      <td>24</td>\n",
       "      <td>10.796943</td>\n",
       "      <td>start 79.0</td>\n",
       "      <td>end 103.0</td>\n",
       "    </tr>\n",
       "    <tr>\n",
       "      <th>272</th>\n",
       "      <td>2009091304</td>\n",
       "      <td>2293</td>\n",
       "      <td>CLE vs MIN 2009-09-13,2009091304</td>\n",
       "      <td>Half2 down 2.0 start 50.0 end 72.0 (8:45) B.Quinn pass deep left intended for B.Edwards INTERCEP...</td>\n",
       "      <td>2.0</td>\n",
       "      <td>08:45</td>\n",
       "      <td>50.0</td>\n",
       "      <td>22</td>\n",
       "      <td>8.694446</td>\n",
       "      <td>start 50.0</td>\n",
       "      <td>end 72.0</td>\n",
       "    </tr>\n",
       "    <tr>\n",
       "      <th>229</th>\n",
       "      <td>2009091304</td>\n",
       "      <td>1344</td>\n",
       "      <td>CLE vs MIN 2009-09-13,2009091304</td>\n",
       "      <td>Half1 down 3.0 start 1.0 end 74.0 (6:38) (Shotgun) J.Cribbs right tackle to MIN 2 for -1 yards (...</td>\n",
       "      <td>3.0</td>\n",
       "      <td>06:38</td>\n",
       "      <td>1.0</td>\n",
       "      <td>73</td>\n",
       "      <td>8.602538</td>\n",
       "      <td>start 1.0</td>\n",
       "      <td>end 74.0</td>\n",
       "    </tr>\n",
       "    <tr>\n",
       "      <th>308</th>\n",
       "      <td>2009091304</td>\n",
       "      <td>3121</td>\n",
       "      <td>CLE vs MIN 2009-09-13,2009091304</td>\n",
       "      <td>Half2 down 1.0 start 60.0 end 67.0 (10:15) (No Huddle, Shotgun) B.Quinn sacked at CLE 36 for -4 ...</td>\n",
       "      <td>1.0</td>\n",
       "      <td>10:15</td>\n",
       "      <td>60.0</td>\n",
       "      <td>7</td>\n",
       "      <td>7.479582</td>\n",
       "      <td>start 60.0</td>\n",
       "      <td>end 67.0</td>\n",
       "    </tr>\n",
       "    <tr>\n",
       "      <th>...</th>\n",
       "      <td>...</td>\n",
       "      <td>...</td>\n",
       "      <td>...</td>\n",
       "      <td>...</td>\n",
       "      <td>...</td>\n",
       "      <td>...</td>\n",
       "      <td>...</td>\n",
       "      <td>...</td>\n",
       "      <td>...</td>\n",
       "      <td>...</td>\n",
       "      <td>...</td>\n",
       "    </tr>\n",
       "    <tr>\n",
       "      <th>309</th>\n",
       "      <td>2009091304</td>\n",
       "      <td>3155</td>\n",
       "      <td>CLE vs MIN 2009-09-13,2009091304</td>\n",
       "      <td>Half2 down 1.0 start 34.0 end 37.0 (10:01) A.Peterson right guard to CLE 31 for 3 yards (E.Barton).</td>\n",
       "      <td>1.0</td>\n",
       "      <td>10:01</td>\n",
       "      <td>34.0</td>\n",
       "      <td>3</td>\n",
       "      <td>0.017420</td>\n",
       "      <td>start 34.0</td>\n",
       "      <td>end 37.0</td>\n",
       "    </tr>\n",
       "    <tr>\n",
       "      <th>334</th>\n",
       "      <td>2009091304</td>\n",
       "      <td>3729</td>\n",
       "      <td>CLE vs MIN 2009-09-13,2009091304</td>\n",
       "      <td>Half2 down 1.0 start 80.0 end 101.0 (3:03) (Shotgun) B.Quinn scrambles left guard to CLE 30 for ...</td>\n",
       "      <td>1.0</td>\n",
       "      <td>03:03</td>\n",
       "      <td>80.0</td>\n",
       "      <td>21</td>\n",
       "      <td>0.011707</td>\n",
       "      <td>start 80.0</td>\n",
       "      <td>end 101.0</td>\n",
       "    </tr>\n",
       "    <tr>\n",
       "      <th>331</th>\n",
       "      <td>2009091304</td>\n",
       "      <td>3654</td>\n",
       "      <td>CLE vs MIN 2009-09-13,2009091304</td>\n",
       "      <td>Half2 down 2.0 start 34.0 end 35.0 (4:05) C.Taylor right guard to CLE 35 for -1 yards (B.Pool, A...</td>\n",
       "      <td>2.0</td>\n",
       "      <td>04:05</td>\n",
       "      <td>34.0</td>\n",
       "      <td>1</td>\n",
       "      <td>0.010624</td>\n",
       "      <td>start 34.0</td>\n",
       "      <td>end 35.0</td>\n",
       "    </tr>\n",
       "    <tr>\n",
       "      <th>330</th>\n",
       "      <td>2009091304</td>\n",
       "      <td>3633</td>\n",
       "      <td>CLE vs MIN 2009-09-13,2009091304</td>\n",
       "      <td>Half2 down 1.0 start 36.0 end 37.0 (4:47) C.Taylor right guard to CLE 34 for 2 yards (B.McDonald...</td>\n",
       "      <td>1.0</td>\n",
       "      <td>04:47</td>\n",
       "      <td>36.0</td>\n",
       "      <td>1</td>\n",
       "      <td>0.007190</td>\n",
       "      <td>start 36.0</td>\n",
       "      <td>end 37.0</td>\n",
       "    </tr>\n",
       "    <tr>\n",
       "      <th>222</th>\n",
       "      <td>2009091304</td>\n",
       "      <td>1020</td>\n",
       "      <td>CLE vs MIN 2009-09-13,2009091304</td>\n",
       "      <td>Half1 down 2.0 start 73.0 end 146.0 (10:17) B.Quinn pass short middle to L.Vickers to CLE 39 for...</td>\n",
       "      <td>2.0</td>\n",
       "      <td>10:17</td>\n",
       "      <td>73.0</td>\n",
       "      <td>73</td>\n",
       "      <td>0.000000</td>\n",
       "      <td>start 73.0</td>\n",
       "      <td>end 146.0</td>\n",
       "    </tr>\n",
       "  </tbody>\n",
       "</table>\n",
       "<p>147 rows × 11 columns</p>\n",
       "</div>"
      ],
      "text/plain": [
       "        game_id  play_id                   gameDescription  \\\n",
       "246  2009091304     1695  CLE vs MIN 2009-09-13,2009091304   \n",
       "277  2009091304     2430  CLE vs MIN 2009-09-13,2009091304   \n",
       "272  2009091304     2293  CLE vs MIN 2009-09-13,2009091304   \n",
       "229  2009091304     1344  CLE vs MIN 2009-09-13,2009091304   \n",
       "308  2009091304     3121  CLE vs MIN 2009-09-13,2009091304   \n",
       "..          ...      ...                               ...   \n",
       "309  2009091304     3155  CLE vs MIN 2009-09-13,2009091304   \n",
       "334  2009091304     3729  CLE vs MIN 2009-09-13,2009091304   \n",
       "331  2009091304     3654  CLE vs MIN 2009-09-13,2009091304   \n",
       "330  2009091304     3633  CLE vs MIN 2009-09-13,2009091304   \n",
       "222  2009091304     1020  CLE vs MIN 2009-09-13,2009091304   \n",
       "\n",
       "                                                                                                    desc  \\\n",
       "246  Half1 down 4.0 start 81.0 end 85.0 (1:46) C.Kluwe punts 48 yards to CLE 33, Center-C.Loeffler. J...   \n",
       "277  Half2 down 2.0 start 79.0 end 103.0 (6:09) (Shotgun) B.Favre pass deep left to P.Harvin to MIN 4...   \n",
       "272  Half2 down 2.0 start 50.0 end 72.0 (8:45) B.Quinn pass deep left intended for B.Edwards INTERCEP...   \n",
       "229  Half1 down 3.0 start 1.0 end 74.0 (6:38) (Shotgun) J.Cribbs right tackle to MIN 2 for -1 yards (...   \n",
       "308  Half2 down 1.0 start 60.0 end 67.0 (10:15) (No Huddle, Shotgun) B.Quinn sacked at CLE 36 for -4 ...   \n",
       "..                                                                                                   ...   \n",
       "309  Half2 down 1.0 start 34.0 end 37.0 (10:01) A.Peterson right guard to CLE 31 for 3 yards (E.Barton).   \n",
       "334  Half2 down 1.0 start 80.0 end 101.0 (3:03) (Shotgun) B.Quinn scrambles left guard to CLE 30 for ...   \n",
       "331  Half2 down 2.0 start 34.0 end 35.0 (4:05) C.Taylor right guard to CLE 35 for -1 yards (B.Pool, A...   \n",
       "330  Half2 down 1.0 start 36.0 end 37.0 (4:47) C.Taylor right guard to CLE 34 for 2 yards (B.McDonald...   \n",
       "222  Half1 down 2.0 start 73.0 end 146.0 (10:17) B.Quinn pass short middle to L.Vickers to CLE 39 for...   \n",
       "\n",
       "     down   time  yardline_100  ydsnet        wpa        start         end  \n",
       "246   4.0  01:46          81.0       4  16.467169   start 81.0    end 85.0  \n",
       "277   2.0  06:09          79.0      24  10.796943   start 79.0   end 103.0  \n",
       "272   2.0  08:45          50.0      22   8.694446   start 50.0    end 72.0  \n",
       "229   3.0  06:38           1.0      73   8.602538    start 1.0    end 74.0  \n",
       "308   1.0  10:15          60.0       7   7.479582   start 60.0    end 67.0  \n",
       "..    ...    ...           ...     ...        ...          ...         ...  \n",
       "309   1.0  10:01          34.0       3   0.017420   start 34.0    end 37.0  \n",
       "334   1.0  03:03          80.0      21   0.011707   start 80.0   end 101.0  \n",
       "331   2.0  04:05          34.0       1   0.010624   start 34.0    end 35.0  \n",
       "330   1.0  04:47          36.0       1   0.007190   start 36.0    end 37.0  \n",
       "222   2.0  10:17          73.0      73   0.000000   start 73.0   end 146.0  \n",
       "\n",
       "[147 rows x 11 columns]"
      ]
     },
     "execution_count": 40,
     "metadata": {},
     "output_type": "execute_result"
    }
   ],
   "source": [
    "gameRows = cleanedDf[cleanedDf['game_id'] == 2009091304]\n",
    "gameRows.sort_values(by='wpa', ascending=False)"
   ]
  },
  {
   "cell_type": "code",
   "execution_count": 35,
   "id": "5c217f7f-a82b-4ac2-8b8e-36bc5da94dfa",
   "metadata": {},
   "outputs": [],
   "source": [
    "cleanedDf = df[['game_id', 'play_id', 'gameDescription', 'game_half', 'desc', 'down', 'time', 'yardline_100','ydsnet', 'wpa']]\n",
    "cleanedDf = cleanedDf.dropna()\n",
    "cleanedDf.head()\n",
    "\n",
    "cleanedDf['start'] = \" start \" + cleanedDf['yardline_100'].astype(str) \n",
    "cleanedDf['end'] = \" end \" + (cleanedDf['yardline_100'] + cleanedDf['ydsnet']).astype(str)\n",
    "cleanedDf['desc'] = cleanedDf['game_half'] + \" down \" + cleanedDf['down'].astype(str) + cleanedDf[\"start\"] + cleanedDf[\"end\"] + \" \" + cleanedDf['desc']\n",
    "cleanedDf['wpa'] = abs(cleanedDf[\"wpa\"]) * 100\n",
    "cleanedDf.drop('game_half', axis=1, inplace=True)\n",
    "cleanedDf.head\n",
    "cleanedDf.to_csv(\"cleanedData.csv\", index=False)"
   ]
  },
  {
   "cell_type": "code",
   "execution_count": 92,
   "id": "7f4b6566-fca4-4815-af41-f211ba3b75c2",
   "metadata": {},
   "outputs": [
    {
     "data": {
      "text/plain": [
       "2526"
      ]
     },
     "execution_count": 92,
     "metadata": {},
     "output_type": "execute_result"
    }
   ],
   "source": [
    "games = cleanedDf[::-1].groupby(\"game_id\")\n",
    "games.ngroups"
   ]
  },
  {
   "cell_type": "code",
   "execution_count": 93,
   "id": "45c757cc-34f9-408a-a03e-3bee0c0d3107",
   "metadata": {},
   "outputs": [
    {
     "name": "stdout",
     "output_type": "stream",
     "text": [
      "Done\n"
     ]
    }
   ],
   "source": [
    "count = 0;\n",
    "trainingData = pd.DataFrame()\n",
    "for name, group in games:\n",
    "    if (count > 100):\n",
    "        break;\n",
    "    trainingData = pd.concat([trainingData, group])\n",
    "    count+=1\n",
    "trainingData.to_csv(\"trainingData.csv\", index=False)\n",
    "print(\"Done\")"
   ]
  },
  {
   "cell_type": "code",
   "execution_count": 94,
   "id": "0e053d78-500d-48f2-ab09-491b4f0c5a92",
   "metadata": {},
   "outputs": [],
   "source": [
    "recentGames = cleanedDf[::-1].groupby(\"game_id\", sort=False)\n",
    "for name, group in recentGames:\n",
    "    group.to_csv(\"testingData.csv\", index=False)\n",
    "    break;"
   ]
  },
  {
   "cell_type": "code",
   "execution_count": 4,
   "id": "677faf1b-214d-4ff2-a187-c437cbf2dec0",
   "metadata": {},
   "outputs": [],
   "source": []
  }
 ],
 "metadata": {
  "kernelspec": {
   "display_name": "Python 3 (ipykernel)",
   "language": "python",
   "name": "python3"
  },
  "language_info": {
   "codemirror_mode": {
    "name": "ipython",
    "version": 3
   },
   "file_extension": ".py",
   "mimetype": "text/x-python",
   "name": "python",
   "nbconvert_exporter": "python",
   "pygments_lexer": "ipython3",
   "version": "3.12.2"
  }
 },
 "nbformat": 4,
 "nbformat_minor": 5
}
